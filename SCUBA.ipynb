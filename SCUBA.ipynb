{
 "cells": [
  {
   "cell_type": "markdown",
   "metadata": {},
   "source": [
    "# SCUBA NOTES"
   ]
  },
  {
   "cell_type": "markdown",
   "metadata": {},
   "source": [
    "## (Enriched Air) Nitrox"
   ]
  },
  {
   "cell_type": "markdown",
   "metadata": {},
   "source": [
    " **Nitrox is also known as “enriched air” or “EANx” and is a combination of nitrogen and oxygen** used in recreational diving that has a higher concentration of oxygen than air (more than 21%). By using enriched air many divers are able to dive for longer but at shallower depths."
   ]
  },
  {
   "cell_type": "markdown",
   "metadata": {},
   "source": [
    "### What is Nitrox?"
   ]
  },
  {
   "cell_type": "markdown",
   "metadata": {},
   "source": [
    "Nitrox goes by many names such as EAN, enriched air and EANx. However, they all refer to the same thing, a gas that is composed of nitrogen and oxygen where the oxygen makes up more than 21% of the overall composition.\n",
    "\n",
    "By containing more than 21% oxygen, nitrox has a higher percentage of oxygen than the air we breathe, hence the name “enriched air”. The rest of the gas (79%) is then made up of nitrogen.\n",
    "\n",
    "However, you are able to find different levels of oxygen in nitrox, starting at 22% and ending at around 40% for most recreational dives. You will need to undertake a course to be able to dive with nitrox, especially if you are planning on using a higher concentration of oxygen in your diving tank."
   ]
  },
  {
   "cell_type": "markdown",
   "metadata": {},
   "source": [
    "### What is Nitrox Made of?"
   ]
  },
  {
   "cell_type": "markdown",
   "metadata": {},
   "source": [
    "As its very name suggests nitrox is a combination of two gases: nitrogen and oxygen. However, what makes nitrox unique is the ratio of oxygen to nitrogen. In the atmosphere we experience 21% oxygen and the idea behind nitrox is to increase this percentage.\n",
    "\n",
    "So, nitrox is made of a higher percentage of oxygen than regular air. However, there is not one set ratio.\n",
    "\n",
    "On the market there is nitrox I and nitrox II which both contain a higher concentration of oxygen, but at different levels. **Nitrox I contains 32% oxygen** (and hence 68% nitrogen) and **nitrox II contains 36% oxygen** (and hence 64% nitrogen)."
   ]
  },
  {
   "cell_type": "markdown",
   "metadata": {},
   "source": [
    "### Pros of Diving with Nitrox"
   ]
  },
  {
   "cell_type": "markdown",
   "metadata": {},
   "source": [
    "#### Longer Dives"
   ]
  },
  {
   "cell_type": "markdown",
   "metadata": {},
   "source": [
    "The main benefit of using nitrox is that you can dive for longer.\n",
    "\n",
    "When diving with regular air there are limits both on the time that you can be underwater and the depth of your dive. However, because the concentration of oxygen is higher in nitrox there is a reduced risk from the nitrogen that you are breathing in.\n",
    "\n",
    "Nitrogen, when depressurized, can cause bubbles to escape from the gas itself and these bubbles are small enough, under pressure, to enter into your tissue and bloodstream, meaning that as you surface they will expand. When this happens it is called depressurization sickness or the bends.\n",
    "\n",
    "In some cases, this reduction in nitrogen means that you can dive for twice as long as you would be able to with regular air (for dives at a depth of 50 feet). However, you will need to rely on your nitrox training to accurately calculate the no decompression limits of your dive."
   ]
  },
  {
   "cell_type": "markdown",
   "metadata": {},
   "source": [
    "#### Shorter Surface Time"
   ]
  },
  {
   "cell_type": "markdown",
   "metadata": {},
   "source": [
    "Diving with nitrox also results in shorter surface times on your dive. Again, the reason for this is the reduction in nitrogen. Because nitrox has a reduced percentage of nitrogen it will take your body a lot less time to be able to expel the extra nitrogen from your system, meaning you can get back to your exciting dive."
   ]
  },
  {
   "cell_type": "markdown",
   "metadata": {},
   "source": [
    "#### Less Fatigue"
   ]
  },
  {
   "cell_type": "markdown",
   "metadata": {},
   "source": [
    "One final advantage is still not scientifically verified, but commonly reported by many divers, and that is less fatigue. A lot of divers who use nitrox as opposed to regular air report feeling less fatigued after their dive.\n",
    "\n",
    "Many believe that the reason for this is once more the reduced nitrogen. There are fewer microbubbles of nitrogen in your blood stream and this results in less stress when decompressing. However, this is still yet to be proven."
   ]
  },
  {
   "cell_type": "markdown",
   "metadata": {},
   "source": [
    "### Cons of Diving with Nitrox"
   ]
  },
  {
   "cell_type": "markdown",
   "metadata": {},
   "source": [
    "#### Not for Deep Diving"
   ]
  },
  {
   "cell_type": "markdown",
   "metadata": {},
   "source": [
    "One of the reasons why many people want to start diving with nitrox is that they think they will be able to reach greater depths, but this is not the case. Just like with normal air, nitrox has its depth restrictions. You will be able to dive for longer, not deeper.\n",
    "\n",
    "Nitrox can be very dangerous to inhale beyond its maximum depth limit and this is due to the nitrogen in the gas which can have significant anaesthetic effects when pressurized. So, you will need to check your restrictions carefully when diving with nitrox to avoid becoming unconscious."
   ]
  },
  {
   "cell_type": "markdown",
   "metadata": {},
   "source": [
    "#### Oxygen Toxicity"
   ]
  },
  {
   "cell_type": "markdown",
   "metadata": {},
   "source": [
    "The oxygen in nitrox can also cause issues because of oxygen toxicity. If you are spending too much time underwater breathing in the enriched air nitrox then you may start to notice the effects of oxygen toxicity.\n",
    "\n",
    "There are no set consequences of oxygen toxicity but there are some key symptoms to look out for. These are distorted vision and convulsions. If you start to notice any issues then it is important that you resolve these as quickly as possible.\n",
    "\n",
    "If you keep an eye on your depth to ensure that you do not exceed the maximum for your dive and your oxygen exposure then you should be able to avoid oxygen toxicity. If you do begin to convulse the make sure to keep your respirator in as this can easily lead to drowning."
   ]
  },
  {
   "cell_type": "markdown",
   "metadata": {},
   "source": [
    "### Is it Safer to Dive Nitrox?"
   ]
  },
  {
   "cell_type": "markdown",
   "metadata": {},
   "source": [
    "Yes and No ...\n",
    "**Diving with Nitrox reduces the risk of decompression sickness**. However, it is not quite true to say it is safer to dive with Nitrox than with air. That is because **diving with Nitrox introduces another potential risk – oxygen toxicity**.\n",
    "\n",
    "We need oxygen to survive, but oxygen toxicity kicks in when the partial pressure of oxygen is too high. Underwater central nervous system (CNS) oxygen toxicity is dangerous. A typical symptom is a no-preceding-warning convulsion. This is extremely dangerous underwater. A diver will most likely spit the regulator out and drown underwater when it happens.\n",
    "\n",
    "When oxygen partial pressure is over 1.4 bar/ATA, we reach the limit of CNS oxygen toxicity. Thus, with a higher percentage of oxygen in the air mix, the depth limit is shallower. If we are diving with 40% O2 Nitrox, the depth limit for oxygen toxicity is only 25 meters.\n",
    "\n",
    "While diving with Nitrox reduces the risk of DCS, it increases the risk of CNS toxicity. As a result, it is not correct to say it is safer to dive with Nitrox. Before using a Nitrox tank, make sure you have the proper training and perform the proper predive safety check."
   ]
  },
  {
   "cell_type": "code",
   "execution_count": null,
   "metadata": {},
   "outputs": [],
   "source": []
  },
  {
   "cell_type": "markdown",
   "metadata": {},
   "source": [
    "##  Maximum Operating Depth (MOD)"
   ]
  },
  {
   "cell_type": "markdown",
   "metadata": {},
   "source": [
    "A maximum operating depth (MOD) is a depth limit based on the percentage of oxygen in a diver's breathing gas."
   ]
  },
  {
   "cell_type": "markdown",
   "metadata": {},
   "source": [
    "### Why Should a Diver Calculate a Maximum Operating Depth?"
   ]
  },
  {
   "cell_type": "markdown",
   "metadata": {},
   "source": [
    "Breathing high concentrations of oxygen can cause oxygen toxicity, which is usually fatal when diving. The concentration (or partial pressure) of oxygen in a diver's breathing gas increases with depth. The higher the percentage of oxygen, the shallower the depth at which it becomes toxic. Divers calculate a MOD to be sure that they do not descend beyond the depth at which the oxygen in their tank may become toxic."
   ]
  },
  {
   "cell_type": "markdown",
   "metadata": {},
   "source": [
    "### Should I Calculate My Mod on Every Dive?"
   ]
  },
  {
   "cell_type": "markdown",
   "metadata": {},
   "source": [
    "A diver should calculate the MOD for their dive whenever they uses enriched air nitrox, trimix or pure oxygen. Technical divers who engage in deep air diving must also calculate MODs. A scuba diver who breathes air and who remains within recreational dive limits need not calculate a MOD for their dive. In fact, on most recreational dives the maximum depth will be limited by factors such as the no-decompression limit, narcosis, and the experience level of the diver instead of the MOD."
   ]
  },
  {
   "cell_type": "markdown",
   "metadata": {},
   "source": [
    "### How to Calculate a Maximum Operating Depth"
   ]
  },
  {
   "cell_type": "markdown",
   "metadata": {},
   "source": [
    "#### Determine Your Oxygen Percentage"
   ]
  },
  {
   "cell_type": "markdown",
   "metadata": {},
   "source": [
    "If you are diving on air, the percentage of oxygen in your tank is 20.9 %. If you are using enriched air nitrox or trimix, use an oxygen analyzer to determine the percentage of oxygen in your scuba tank.  This value is known as \"Fraction of Oxygen\" or (FO2). "
   ]
  },
  {
   "cell_type": "code",
   "execution_count": 18,
   "metadata": {},
   "outputs": [],
   "source": [
    "vFO2 = float(input(\"What is your tank's FO2?\"))/100"
   ]
  },
  {
   "cell_type": "markdown",
   "metadata": {},
   "source": [
    "#### Determine You Maximum Partial Pressure of Oxygen (PO2\")"
   ]
  },
  {
   "cell_type": "markdown",
   "metadata": {},
   "source": [
    "Most scuba training organizations recommend that divers limit the partial pressure of oxygen for a dive to 1.4 ata. A diver may choose to lower or raise this number depending upon the type of diving and the purpose of the breathing gas. In technical diving, for example, pure oxygen is frequently used at partial pressures higher than 1.4 ata for decompression stops."
   ]
  },
  {
   "cell_type": "markdown",
   "metadata": {},
   "source": [
    "#### Calculate Your Maximum Operating Depth Using This Formula:"
   ]
  },
  {
   "cell_type": "markdown",
   "metadata": {},
   "source": [
    "{(Maximum partial pressure of oxygen (PO2) / percentage of oxygen in tank (FO2) - 1} x 33 ft"
   ]
  },
  {
   "cell_type": "code",
   "execution_count": 19,
   "metadata": {},
   "outputs": [
    {
     "name": "stdout",
     "output_type": "stream",
     "text": [
      "MOD =  132 Feet\n"
     ]
    }
   ],
   "source": [
    "vPO2 = 1.4\n",
    "vMOD = ((vPO2/vFO2) -1) * 33\n",
    "print('MOD = ',round(vMOD), 'Feet')"
   ]
  },
  {
   "cell_type": "markdown",
   "metadata": {},
   "source": [
    "### Cheat Sheet of Maximum Operating Depths for Common Breathing Gasses.  "
   ]
  },
  {
   "cell_type": "markdown",
   "metadata": {},
   "source": [
    "Here are some MOD's for common breathing gasses using a partial pressure of oxygen of 1.4 ata:\n",
    "\n",
    "Gas | Oxygen % | MOD\n",
    "--- | :---------:| ---\n",
    "Air | 21% |187 feet\n",
    "Nitrox 32 | 32% |111 feet\n",
    "Nitrox 36 | 36% | 95 feet\n",
    "Pure Oxygen | 100% | 13 feet"
   ]
  },
  {
   "cell_type": "code",
   "execution_count": 9,
   "metadata": {},
   "outputs": [
    {
     "data": {
      "image/png": "[encoded data removed]",
      "text/plain": [
       "<Figure size 640x480 with 1 Axes>"
      ]
     },
     "metadata": {},
     "output_type": "display_data"
    }
   ],
   "source": [
    "import matplotlib.pyplot as plt; plt.rcdefaults()\n",
    "import numpy as np\n",
    "import matplotlib.pyplot as plt\n",
    "\n",
    "objects = ('Air', 'Nitrox 32', 'Nitrox 36', 'Pure Oxygen')\n",
    "y_pos = np.arange(len(objects))\n",
    "performance = [187,111,95,13]\n",
    "\n",
    "plt.barh(y_pos, performance, align='center', alpha=0.5)\n",
    "plt.yticks( y_pos,objects)\n",
    "plt.xlabel('Depth')\n",
    "plt.title('MOD')\n",
    "\n",
    "plt.show()"
   ]
  },
  {
   "cell_type": "markdown",
   "metadata": {},
   "source": [
    "### Putting a Maximum Operating Depth into Use"
   ]
  },
  {
   "cell_type": "markdown",
   "metadata": {},
   "source": [
    "While understanding how to calculate a MOD is great, a diver must also make sure that he stays above his depth limit during a dive. One good way for a diver to ensure that he does not exceed his MOD is to use a dive computer that can be programmed for nitrox or mixed gasses. Most computers are programmed to beep or otherwise notify the diver if he exceeds his MOD or partial pressure limits.\n",
    "\n",
    "In addition, a diver using enriched air or other mixed gasses should label his tank with the MOD of the gas inside. If the diver accidentally exceeds the MOD written on his tank, his buddy may notice the written MOD and alert him. Writing the MOD on the tank, along with other information about the gas the tank contains, also helps to prevent a diver from mistaking the tank for one filled with air."
   ]
  },
  {
   "cell_type": "markdown",
   "metadata": {},
   "source": [
    "## Dive Planning"
   ]
  },
  {
   "cell_type": "markdown",
   "metadata": {},
   "source": [
    "### Decompression Tables"
   ]
  },
  {
   "cell_type": "markdown",
   "metadata": {},
   "source": [
    "Air vs. Nitrox"
   ]
  },
  {
   "cell_type": "markdown",
   "metadata": {},
   "source": [
    "Depth (ft) | 21 | 32 | 36\n",
    ":-----: | :--:| :--:| :--:|\n",
    "35|205| - | - |\n",
    "40|140| - | - |\n",
    "45| - |220| - |\n",
    "50|80|155|220\n",
    "55| - |110|155\n",
    "60|55|90|115\n",
    "70|40|60|75\n",
    "80|30|45|55\n",
    "90|25|35|40\n",
    "100|20|30|35\n",
    "110|16|25|29\n",
    "120|13|20|0\n",
    "130|10|18|0\n",
    "140|8|0|0"
   ]
  },
  {
   "cell_type": "markdown",
   "metadata": {},
   "source": [
    "\n",
    "Air, Nitrox 32,  and Nitrox 36 values represent No-Decompression limits in minutes.  \n",
    "\n",
    "Figures are for first dive reference only and do not consider residual nitrogen from previous dives.  \n",
    "Figures are averages from several table. Consult an actual table for exact numbers.  \n",
    "Figures are intended to demonstrate on difference between Air and Nitrox."
   ]
  }
 ],
 "metadata": {
  "kernelspec": {
   "display_name": "Python 3.9.12 ('base')",
   "language": "python",
   "name": "python3"
  },
  "language_info": {
   "codemirror_mode": {
    "name": "ipython",
    "version": 3
   },
   "file_extension": ".py",
   "mimetype": "text/x-python",
   "name": "python",
   "nbconvert_exporter": "python",
   "pygments_lexer": "ipython3",
   "version": "3.9.12"
  },
  "orig_nbformat": 4,
  "vscode": {
   "interpreter": {
    "hash": "6defd577cd85e3649e86c46a537635b7104b081260a238509c81cac8b534171b"
   }
  }
 },
 "nbformat": 4,
 "nbformat_minor": 2
}
